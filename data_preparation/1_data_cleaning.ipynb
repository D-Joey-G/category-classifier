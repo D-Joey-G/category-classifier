{
 "cells": [
  {
   "cell_type": "code",
   "execution_count": 1,
   "metadata": {},
   "outputs": [
    {
     "name": "stdout",
     "output_type": "stream",
     "text": [
      "Loaded 36700 valid entries out of 36700 total.\n",
      "                                            Question  \\\n",
      "0  South Korea's longest river, the Nakdong, flow...   \n",
      "1  Developed by Francophone writers and politicia...   \n",
      "2  In Argonauts of the Western Pacific, Bronislaw...   \n",
      "3  One of the deficiencies of the Standard Model ...   \n",
      "4  Appearing in the title of a 1982 book by evolu...   \n",
      "\n",
      "                               Answer            Category  \\\n",
      "0                      Busan or Pusan           Geography   \n",
      "1                        Aime Cesaire  Art and Literature   \n",
      "2  Kula or Kula ring or Kula exchange           Geography   \n",
      "3                    weak and gravity  Science and Nature   \n",
      "4                           phenotype  Science and Nature   \n",
      "\n",
      "                                                text  \n",
      "0  South Korea's longest river, the Nakdong, flow...  \n",
      "1  Developed by Francophone writers and politicia...  \n",
      "2  In Argonauts of the Western Pacific, Bronislaw...  \n",
      "3  One of the deficiencies of the Standard Model ...  \n",
      "4  Appearing in the title of a 1982 book by evolu...  \n"
     ]
    }
   ],
   "source": [
    "import json\n",
    "import pandas as pd\n",
    "from pathlib import Path\n",
    "\n",
    "json_path = Path(\"../raw_data.json\").resolve()\n",
    "\n",
    "# Load JSON file\n",
    "with open(json_path, \"r\", encoding=\"utf-8\") as f:\n",
    "    data = json.load(f)\n",
    "\n",
    "# Check if all records have required fields\n",
    "required_keys = {\"Question\", \"Answer\", \"Category\"}\n",
    "valid_records = [entry for entry in data if required_keys.issubset(entry)]\n",
    "\n",
    "# Optionally warn if some entries were skipped\n",
    "print(f\"Loaded {len(valid_records)} valid entries out of {len(data)} total.\")\n",
    "\n",
    "# Convert to DataFrame\n",
    "df = pd.DataFrame(valid_records)\n",
    "\n",
    "df = df.dropna(subset=[\"Category\"])\n",
    "\n",
    "# Create a new column combining Question and Answer \n",
    "# Also ensure all entries are strings\n",
    "df[\"text\"] = (\n",
    "    df[\"Question\"].astype(str)\n",
    "    + \" \"\n",
    "    + df[\"Answer\"].astype(str)\n",
    ")\n",
    "\n",
    "# Show preview\n",
    "print(df.head())\n",
    "\n",
    "\n"
   ]
  },
  {
   "cell_type": "code",
   "execution_count": 2,
   "metadata": {},
   "outputs": [],
   "source": [
    "# standardise and clean the text\n",
    "\n",
    "import re\n",
    "\n",
    "def clean_text(text):\n",
    "    if not isinstance(text, str):\n",
    "        return \"\"\n",
    "    text = text.lower()                              # Lowercase\n",
    "    text = re.sub(r\"[^\\w\\s]\", \"\", text)              # Remove punctuation\n",
    "    text = re.sub(r\"\\s+\", \" \", text)                 # Normalize whitespace\n",
    "    return text.strip()                              # Remove leading/trailing space\n",
    "\n",
    "# Apply cleaning to the \"text\" column\n",
    "df[\"clean_text\"] = df[\"text\"].apply(clean_text)\n"
   ]
  },
  {
   "cell_type": "code",
   "execution_count": 3,
   "metadata": {},
   "outputs": [],
   "source": [
    "# Save processed data as both json and csv for optionality\n",
    "\n",
    "df.to_json(\"cleaned_data.json\", orient=\"records\", indent=2, force_ascii=False)\n",
    "\n",
    "df.to_csv(\"cleaned_data.csv\", index=False)\n"
   ]
  },
  {
   "cell_type": "markdown",
   "metadata": {},
   "source": []
  }
 ],
 "metadata": {
  "kernelspec": {
   "display_name": ".venv",
   "language": "python",
   "name": "python3"
  },
  "language_info": {
   "codemirror_mode": {
    "name": "ipython",
    "version": 3
   },
   "file_extension": ".py",
   "mimetype": "text/x-python",
   "name": "python",
   "nbconvert_exporter": "python",
   "pygments_lexer": "ipython3",
   "version": "3.10.16"
  }
 },
 "nbformat": 4,
 "nbformat_minor": 2
}
