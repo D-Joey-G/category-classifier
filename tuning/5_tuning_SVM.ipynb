{
 "cells": [
  {
   "cell_type": "code",
   "execution_count": 2,
   "metadata": {},
   "outputs": [],
   "source": [
    "# 1. Imports\n",
    "import joblib\n",
    "import pandas as pd\n",
    "from pathlib import Path\n",
    "from sklearn.svm import LinearSVC\n",
    "from sklearn.model_selection import GridSearchCV, cross_val_score\n",
    "from sklearn.metrics import classification_report, accuracy_score, f1_score\n",
    "import numpy as np"
   ]
  },
  {
   "cell_type": "code",
   "execution_count": 3,
   "metadata": {},
   "outputs": [],
   "source": [
    "# 2. Setup\n",
    "vectorizer_type = \"tfidf\"\n",
    "feature_count = 200000\n",
    "\n",
    "data_path = Path(\"../data_preparation\")\n",
    "report_path = Path(\"../reports/tuning_svm\")\n",
    "model_path = Path(\"../models/tuning_svm\")\n",
    "\n",
    "report_path.mkdir(parents=True, exist_ok=True)\n",
    "model_path.mkdir(parents=True, exist_ok=True)\n",
    "\n",
    "# Load data\n",
    "y_train = joblib.load(data_path / \"y_train.joblib\")\n",
    "y_test = joblib.load(data_path / \"y_test.joblib\")\n",
    "label_encoder = joblib.load(data_path / \"label_encoder.joblib\")\n",
    "X_train = joblib.load(data_path / f\"X_train_{vectorizer_type}_{feature_count}.joblib\")\n",
    "X_test = joblib.load(data_path / f\"X_test_{vectorizer_type}_{feature_count}.joblib\")\n"
   ]
  },
  {
   "cell_type": "code",
   "execution_count": 4,
   "metadata": {},
   "outputs": [],
   "source": [
    "# 3. Define parameter grid\n",
    "param_grid = {\n",
    "    \"C\": [0.01, 0.1, 1, 10],\n",
    "    \"penalty\": [\"l2\"],\n",
    "    \"class_weight\": [None, \"balanced\"],\n",
    "    \"dual\": [\"auto\"]\n",
    "}\n",
    "\n",
    "model = LinearSVC()"
   ]
  },
  {
   "cell_type": "code",
   "execution_count": 5,
   "metadata": {},
   "outputs": [
    {
     "name": "stdout",
     "output_type": "stream",
     "text": [
      "Fitting 5 folds for each of 8 candidates, totalling 40 fits\n",
      "[CV] END ...C=0.01, class_weight=None, dual=auto, penalty=l2; total time=   2.9s\n",
      "[CV] END ...C=0.01, class_weight=None, dual=auto, penalty=l2; total time=   3.0s\n",
      "[CV] END ...C=0.01, class_weight=None, dual=auto, penalty=l2; total time=   3.0s\n",
      "[CV] END C=0.01, class_weight=balanced, dual=auto, penalty=l2; total time=   3.2s\n",
      "[CV] END ...C=0.01, class_weight=None, dual=auto, penalty=l2; total time=   3.2s\n",
      "[CV] END ...C=0.01, class_weight=None, dual=auto, penalty=l2; total time=   3.2s\n",
      "[CV] END C=0.01, class_weight=balanced, dual=auto, penalty=l2; total time=   3.2s\n",
      "[CV] END C=0.01, class_weight=balanced, dual=auto, penalty=l2; total time=   3.3s\n",
      "[CV] END C=0.01, class_weight=balanced, dual=auto, penalty=l2; total time=   3.3s\n",
      "[CV] END C=0.01, class_weight=balanced, dual=auto, penalty=l2; total time=   3.3s\n",
      "[CV] END ....C=0.1, class_weight=None, dual=auto, penalty=l2; total time=   4.1s\n",
      "[CV] END ....C=0.1, class_weight=None, dual=auto, penalty=l2; total time=   4.1s\n",
      "[CV] END ....C=0.1, class_weight=None, dual=auto, penalty=l2; total time=   4.2s\n",
      "[CV] END ....C=0.1, class_weight=None, dual=auto, penalty=l2; total time=   4.3s\n",
      "[CV] END ....C=0.1, class_weight=None, dual=auto, penalty=l2; total time=   4.3s\n",
      "[CV] END C=0.1, class_weight=balanced, dual=auto, penalty=l2; total time=   4.4s\n",
      "[CV] END C=0.1, class_weight=balanced, dual=auto, penalty=l2; total time=   4.4s\n",
      "[CV] END C=0.1, class_weight=balanced, dual=auto, penalty=l2; total time=   4.4s\n",
      "[CV] END C=0.1, class_weight=balanced, dual=auto, penalty=l2; total time=   4.5s\n",
      "[CV] END C=0.1, class_weight=balanced, dual=auto, penalty=l2; total time=   4.5s\n",
      "[CV] END ......C=1, class_weight=None, dual=auto, penalty=l2; total time=   8.8s\n",
      "[CV] END ......C=1, class_weight=None, dual=auto, penalty=l2; total time=   8.9s\n",
      "[CV] END ......C=1, class_weight=None, dual=auto, penalty=l2; total time=   9.0s\n",
      "[CV] END ......C=1, class_weight=None, dual=auto, penalty=l2; total time=   9.1s\n",
      "[CV] END ......C=1, class_weight=None, dual=auto, penalty=l2; total time=   8.6s\n",
      "[CV] END ..C=1, class_weight=balanced, dual=auto, penalty=l2; total time=   8.7s\n",
      "[CV] END ..C=1, class_weight=balanced, dual=auto, penalty=l2; total time=   8.7s\n",
      "[CV] END ..C=1, class_weight=balanced, dual=auto, penalty=l2; total time=   8.6s\n",
      "[CV] END ..C=1, class_weight=balanced, dual=auto, penalty=l2; total time=   8.8s\n",
      "[CV] END ..C=1, class_weight=balanced, dual=auto, penalty=l2; total time=   8.8s\n",
      "[CV] END .....C=10, class_weight=None, dual=auto, penalty=l2; total time=  42.7s\n",
      "[CV] END .....C=10, class_weight=None, dual=auto, penalty=l2; total time=  43.7s\n",
      "[CV] END .C=10, class_weight=balanced, dual=auto, penalty=l2; total time=  40.5s\n",
      "[CV] END .C=10, class_weight=balanced, dual=auto, penalty=l2; total time=  38.2s\n",
      "[CV] END .....C=10, class_weight=None, dual=auto, penalty=l2; total time=  40.7s\n",
      "[CV] END .....C=10, class_weight=None, dual=auto, penalty=l2; total time=  41.8s\n",
      "[CV] END .....C=10, class_weight=None, dual=auto, penalty=l2; total time=  42.1s\n",
      "[CV] END .C=10, class_weight=balanced, dual=auto, penalty=l2; total time=  38.3s\n",
      "[CV] END .C=10, class_weight=balanced, dual=auto, penalty=l2; total time=  39.1s\n",
      "[CV] END .C=10, class_weight=balanced, dual=auto, penalty=l2; total time=  39.1s\n"
     ]
    },
    {
     "data": {
      "text/html": [
       "<style>#sk-container-id-1 {color: black;}#sk-container-id-1 pre{padding: 0;}#sk-container-id-1 div.sk-toggleable {background-color: white;}#sk-container-id-1 label.sk-toggleable__label {cursor: pointer;display: block;width: 100%;margin-bottom: 0;padding: 0.3em;box-sizing: border-box;text-align: center;}#sk-container-id-1 label.sk-toggleable__label-arrow:before {content: \"▸\";float: left;margin-right: 0.25em;color: #696969;}#sk-container-id-1 label.sk-toggleable__label-arrow:hover:before {color: black;}#sk-container-id-1 div.sk-estimator:hover label.sk-toggleable__label-arrow:before {color: black;}#sk-container-id-1 div.sk-toggleable__content {max-height: 0;max-width: 0;overflow: hidden;text-align: left;background-color: #f0f8ff;}#sk-container-id-1 div.sk-toggleable__content pre {margin: 0.2em;color: black;border-radius: 0.25em;background-color: #f0f8ff;}#sk-container-id-1 input.sk-toggleable__control:checked~div.sk-toggleable__content {max-height: 200px;max-width: 100%;overflow: auto;}#sk-container-id-1 input.sk-toggleable__control:checked~label.sk-toggleable__label-arrow:before {content: \"▾\";}#sk-container-id-1 div.sk-estimator input.sk-toggleable__control:checked~label.sk-toggleable__label {background-color: #d4ebff;}#sk-container-id-1 div.sk-label input.sk-toggleable__control:checked~label.sk-toggleable__label {background-color: #d4ebff;}#sk-container-id-1 input.sk-hidden--visually {border: 0;clip: rect(1px 1px 1px 1px);clip: rect(1px, 1px, 1px, 1px);height: 1px;margin: -1px;overflow: hidden;padding: 0;position: absolute;width: 1px;}#sk-container-id-1 div.sk-estimator {font-family: monospace;background-color: #f0f8ff;border: 1px dotted black;border-radius: 0.25em;box-sizing: border-box;margin-bottom: 0.5em;}#sk-container-id-1 div.sk-estimator:hover {background-color: #d4ebff;}#sk-container-id-1 div.sk-parallel-item::after {content: \"\";width: 100%;border-bottom: 1px solid gray;flex-grow: 1;}#sk-container-id-1 div.sk-label:hover label.sk-toggleable__label {background-color: #d4ebff;}#sk-container-id-1 div.sk-serial::before {content: \"\";position: absolute;border-left: 1px solid gray;box-sizing: border-box;top: 0;bottom: 0;left: 50%;z-index: 0;}#sk-container-id-1 div.sk-serial {display: flex;flex-direction: column;align-items: center;background-color: white;padding-right: 0.2em;padding-left: 0.2em;position: relative;}#sk-container-id-1 div.sk-item {position: relative;z-index: 1;}#sk-container-id-1 div.sk-parallel {display: flex;align-items: stretch;justify-content: center;background-color: white;position: relative;}#sk-container-id-1 div.sk-item::before, #sk-container-id-1 div.sk-parallel-item::before {content: \"\";position: absolute;border-left: 1px solid gray;box-sizing: border-box;top: 0;bottom: 0;left: 50%;z-index: -1;}#sk-container-id-1 div.sk-parallel-item {display: flex;flex-direction: column;z-index: 1;position: relative;background-color: white;}#sk-container-id-1 div.sk-parallel-item:first-child::after {align-self: flex-end;width: 50%;}#sk-container-id-1 div.sk-parallel-item:last-child::after {align-self: flex-start;width: 50%;}#sk-container-id-1 div.sk-parallel-item:only-child::after {width: 0;}#sk-container-id-1 div.sk-dashed-wrapped {border: 1px dashed gray;margin: 0 0.4em 0.5em 0.4em;box-sizing: border-box;padding-bottom: 0.4em;background-color: white;}#sk-container-id-1 div.sk-label label {font-family: monospace;font-weight: bold;display: inline-block;line-height: 1.2em;}#sk-container-id-1 div.sk-label-container {text-align: center;}#sk-container-id-1 div.sk-container {/* jupyter's `normalize.less` sets `[hidden] { display: none; }` but bootstrap.min.css set `[hidden] { display: none !important; }` so we also need the `!important` here to be able to override the default hidden behavior on the sphinx rendered scikit-learn.org. See: https://github.com/scikit-learn/scikit-learn/issues/21755 */display: inline-block !important;position: relative;}#sk-container-id-1 div.sk-text-repr-fallback {display: none;}</style><div id=\"sk-container-id-1\" class=\"sk-top-container\"><div class=\"sk-text-repr-fallback\"><pre>GridSearchCV(cv=5, estimator=LinearSVC(), n_jobs=-1,\n",
       "             param_grid={&#x27;C&#x27;: [0.01, 0.1, 1, 10],\n",
       "                         &#x27;class_weight&#x27;: [None, &#x27;balanced&#x27;], &#x27;dual&#x27;: [&#x27;auto&#x27;],\n",
       "                         &#x27;penalty&#x27;: [&#x27;l2&#x27;]},\n",
       "             scoring=&#x27;accuracy&#x27;, verbose=2)</pre><b>In a Jupyter environment, please rerun this cell to show the HTML representation or trust the notebook. <br />On GitHub, the HTML representation is unable to render, please try loading this page with nbviewer.org.</b></div><div class=\"sk-container\" hidden><div class=\"sk-item sk-dashed-wrapped\"><div class=\"sk-label-container\"><div class=\"sk-label sk-toggleable\"><input class=\"sk-toggleable__control sk-hidden--visually\" id=\"sk-estimator-id-1\" type=\"checkbox\" ><label for=\"sk-estimator-id-1\" class=\"sk-toggleable__label sk-toggleable__label-arrow\">GridSearchCV</label><div class=\"sk-toggleable__content\"><pre>GridSearchCV(cv=5, estimator=LinearSVC(), n_jobs=-1,\n",
       "             param_grid={&#x27;C&#x27;: [0.01, 0.1, 1, 10],\n",
       "                         &#x27;class_weight&#x27;: [None, &#x27;balanced&#x27;], &#x27;dual&#x27;: [&#x27;auto&#x27;],\n",
       "                         &#x27;penalty&#x27;: [&#x27;l2&#x27;]},\n",
       "             scoring=&#x27;accuracy&#x27;, verbose=2)</pre></div></div></div><div class=\"sk-parallel\"><div class=\"sk-parallel-item\"><div class=\"sk-item\"><div class=\"sk-label-container\"><div class=\"sk-label sk-toggleable\"><input class=\"sk-toggleable__control sk-hidden--visually\" id=\"sk-estimator-id-2\" type=\"checkbox\" ><label for=\"sk-estimator-id-2\" class=\"sk-toggleable__label sk-toggleable__label-arrow\">estimator: LinearSVC</label><div class=\"sk-toggleable__content\"><pre>LinearSVC()</pre></div></div></div><div class=\"sk-serial\"><div class=\"sk-item\"><div class=\"sk-estimator sk-toggleable\"><input class=\"sk-toggleable__control sk-hidden--visually\" id=\"sk-estimator-id-3\" type=\"checkbox\" ><label for=\"sk-estimator-id-3\" class=\"sk-toggleable__label sk-toggleable__label-arrow\">LinearSVC</label><div class=\"sk-toggleable__content\"><pre>LinearSVC()</pre></div></div></div></div></div></div></div></div></div></div>"
      ],
      "text/plain": [
       "GridSearchCV(cv=5, estimator=LinearSVC(), n_jobs=-1,\n",
       "             param_grid={'C': [0.01, 0.1, 1, 10],\n",
       "                         'class_weight': [None, 'balanced'], 'dual': ['auto'],\n",
       "                         'penalty': ['l2']},\n",
       "             scoring='accuracy', verbose=2)"
      ]
     },
     "execution_count": 5,
     "metadata": {},
     "output_type": "execute_result"
    }
   ],
   "source": [
    "# 4. Grid Search with Cross-Validation\n",
    "grid = GridSearchCV(\n",
    "    model,\n",
    "    param_grid,\n",
    "    cv=5,\n",
    "    scoring=\"accuracy\",\n",
    "    n_jobs=-1,\n",
    "    verbose=2\n",
    ")\n",
    "grid.fit(X_train, y_train)"
   ]
  },
  {
   "cell_type": "code",
   "execution_count": 6,
   "metadata": {},
   "outputs": [
    {
     "data": {
      "text/plain": [
       "['../models/tuning_svm/LinearSVC_best_tfidf_200000.joblib']"
      ]
     },
     "execution_count": 6,
     "metadata": {},
     "output_type": "execute_result"
    }
   ],
   "source": [
    "# 5. Save best model\n",
    "best_model = grid.best_estimator_\n",
    "joblib.dump(best_model, model_path / f\"LinearSVC_best_{vectorizer_type}_{feature_count}.joblib\")\n"
   ]
  },
  {
   "cell_type": "code",
   "execution_count": 7,
   "metadata": {},
   "outputs": [
    {
     "name": "stdout",
     "output_type": "stream",
     "text": [
      "Test Accuracy: 0.8485\n",
      "Test F1 Score: 0.8482\n",
      "\n",
      "Classification Report:\n",
      "                    precision    recall  f1-score   support\n",
      "\n",
      "Art and Literature       0.84      0.83      0.84      1150\n",
      "     Entertainment       0.87      0.89      0.88      1153\n",
      "         Geography       0.79      0.80      0.79       891\n",
      "           History       0.83      0.80      0.82       962\n",
      "         Lifestyle       0.78      0.75      0.76       714\n",
      "             Music       0.85      0.87      0.86       743\n",
      "Science and Nature       0.89      0.89      0.89       837\n",
      "             Sport       0.93      0.94      0.93       889\n",
      "\n",
      "          accuracy                           0.85      7339\n",
      "         macro avg       0.85      0.85      0.85      7339\n",
      "      weighted avg       0.85      0.85      0.85      7339\n",
      "\n"
     ]
    }
   ],
   "source": [
    "# 6. Evaluate on test set\n",
    "y_pred = best_model.predict(X_test)\n",
    "acc = accuracy_score(y_test, y_pred)\n",
    "f1 = f1_score(y_test, y_pred, average=\"weighted\")\n",
    "\n",
    "print(f\"Test Accuracy: {acc:.4f}\")\n",
    "print(f\"Test F1 Score: {f1:.4f}\")\n",
    "print(\"\\nClassification Report:\")\n",
    "print(classification_report(y_test, y_pred, target_names=label_encoder.classes_))\n"
   ]
  },
  {
   "cell_type": "code",
   "execution_count": 8,
   "metadata": {},
   "outputs": [],
   "source": [
    "# 7. Save report\n",
    "with open(report_path / f\"svm_tuning_report_{vectorizer_type}_{feature_count}.txt\", \"w\") as f:\n",
    "    f.write(f\"Best Parameters: {grid.best_params_}\\n\")\n",
    "    f.write(f\"Test Accuracy: {acc:.4f}\\n\")\n",
    "    f.write(f\"Test F1 Score: {f1:.4f}\\n\\n\")\n",
    "    f.write(classification_report(y_test, y_pred, target_names=label_encoder.classes_))\n"
   ]
  },
  {
   "cell_type": "code",
   "execution_count": 9,
   "metadata": {},
   "outputs": [
    {
     "name": "stdout",
     "output_type": "stream",
     "text": [
      "Tuning complete. Model and reports saved.\n"
     ]
    }
   ],
   "source": [
    "# 8. Save CV results to CSV\n",
    "cv_results = pd.DataFrame(grid.cv_results_)\n",
    "cv_results.to_csv(report_path / f\"svm_tuning_cv_results_{vectorizer_type}_{feature_count}.csv\", index=False)\n",
    "\n",
    "print(\"Tuning complete. Model and reports saved.\")"
   ]
  }
 ],
 "metadata": {
  "kernelspec": {
   "display_name": ".venv",
   "language": "python",
   "name": "python3"
  },
  "language_info": {
   "codemirror_mode": {
    "name": "ipython",
    "version": 3
   },
   "file_extension": ".py",
   "mimetype": "text/x-python",
   "name": "python",
   "nbconvert_exporter": "python",
   "pygments_lexer": "ipython3",
   "version": "3.10.16"
  }
 },
 "nbformat": 4,
 "nbformat_minor": 2
}
